{
 "cells": [
  {
   "cell_type": "code",
   "execution_count": 1,
   "id": "22601afd-6098-4a1f-b385-7dd2da3cf90a",
   "metadata": {},
   "outputs": [
    {
     "name": "stdout",
     "output_type": "stream",
     "text": [
      "hello\n"
     ]
    }
   ],
   "source": [
    "print('hello')"
   ]
  },
  {
   "cell_type": "code",
   "execution_count": 7,
   "id": "8d85a90e-a387-46ab-a45e-738c0feb03e4",
   "metadata": {},
   "outputs": [
    {
     "name": "stdout",
     "output_type": "stream",
     "text": [
      "Total lines: 6990280, Lines per file: 349514\n",
      "✅ JSON file successfully split into smaller parts!\n"
     ]
    }
   ],
   "source": [
    "import json\n",
    "\n",
    "input_file = \"/Users/dheerajkulkarni/Documents/Yelp Business Reviews Analysis/Yelp JSON/yelp_academic_dataset_review.json\"  # Your 5GB JSON file\n",
    "output_prefix = \"split_file_\"  # Prefix for output files\n",
    "num_files = 20  # Number of files to split into\n",
    "\n",
    "# Count total lines (objects) in the file\n",
    "with open(input_file, \"r\" , encoding=\"utf8\") as f:\n",
    "    total_lines = sum(1 for _ in f)  \n",
    "\n",
    "lines_per_file = total_lines // num_files  # Lines per split file\n",
    "\n",
    "print(f\"Total lines: {total_lines}, Lines per file: {lines_per_file}\")\n",
    "\n",
    "# Now split into multiple smaller files\n",
    "with open(input_file, \"r\" , encoding=\"utf8\") as f:\n",
    "    for i in range(num_files):\n",
    "        output_filename = f\"{output_prefix}{i+1}.json\"\n",
    "        \n",
    "        with open(output_filename, \"w\", encoding=\"utf8\" ) as out_file:\n",
    "            for j in range(lines_per_file):\n",
    "                line = f.readline()\n",
    "                if not line:\n",
    "                    break  # Stop if file ends early\n",
    "                out_file.write(line)\n",
    "\n",
    "print(\"✅ JSON file successfully split into smaller parts!\")"
   ]
  },
  {
   "cell_type": "code",
   "execution_count": null,
   "id": "81ab1d08-9dc4-49d9-a3e7-c1cf619b6c4d",
   "metadata": {},
   "outputs": [],
   "source": []
  }
 ],
 "metadata": {
  "kernelspec": {
   "display_name": "Python [conda env:base] *",
   "language": "python",
   "name": "conda-base-py"
  },
  "language_info": {
   "codemirror_mode": {
    "name": "ipython",
    "version": 3
   },
   "file_extension": ".py",
   "mimetype": "text/x-python",
   "name": "python",
   "nbconvert_exporter": "python",
   "pygments_lexer": "ipython3",
   "version": "3.12.7"
  }
 },
 "nbformat": 4,
 "nbformat_minor": 5
}
